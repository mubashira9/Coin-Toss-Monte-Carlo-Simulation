{
  "nbformat": 4,
  "nbformat_minor": 0,
  "metadata": {
    "colab": {
      "provenance": []
    },
    "kernelspec": {
      "name": "python3",
      "display_name": "Python 3"
    },
    "language_info": {
      "name": "python"
    }
  },
  "cells": [
    {
      "cell_type": "code",
      "source": [
        "import numpy as np\n",
        "\n",
        "# Function to generate sequences of 1s and 2s\n",
        "def generate_sequences(n_tosses, n_experiments):\n",
        "    sequences = []\n",
        "    for _ in range(n_experiments):\n",
        "        sequence = np.random.choice([1, 2], size=n_tosses)\n",
        "        sequences.append(sequence)\n",
        "    return sequences\n",
        "\n",
        "# Parameters\n",
        "n_experiments = 1\n",
        "\n",
        "# Generate sequences for 10, 50, and 100 tosses\n",
        "tosses_list = [10, 50, 100]\n",
        "sequences_dict = {}\n",
        "\n",
        "for n_tosses in tosses_list:\n",
        "    sequences = generate_sequences(n_tosses, n_experiments)\n",
        "    sequences_dict[n_tosses] = sequences # Fixed indentation\n",
        "\n",
        "# Display results\n",
        "for n_tosses, sequences in sequences_dict.items(): # Added .items() and :\n",
        "    print(f\"Results for {n_tosses} tosses:\")\n",
        "    for sequence in sequences:\n",
        "        print(sequence)\n",
        "    print(\"\\n\")"
      ],
      "metadata": {
        "id": "lUzerUhcY7oh",
        "outputId": "a5c19acc-db74-4d76-caa4-3ee31646b12e",
        "colab": {
          "base_uri": "https://localhost:8080/"
        }
      },
      "execution_count": null,
      "outputs": [
        {
          "output_type": "stream",
          "name": "stdout",
          "text": [
            "Results for 10 tosses:\n",
            "[1 2 2 2 2 2 2 1 1 1]\n",
            "\n",
            "\n",
            "Results for 50 tosses:\n",
            "[2 1 1 1 1 1 2 1 2 2 2 1 1 2 2 1 1 2 2 1 1 1 2 2 1 2 2 1 2 2 2 1 2 2 2 1 1\n",
            " 2 2 2 2 2 2 1 1 2 1 1 1 1]\n",
            "\n",
            "\n",
            "Results for 100 tosses:\n",
            "[2 1 1 2 1 2 2 2 2 1 1 2 2 1 2 1 2 2 2 2 1 1 1 1 2 1 2 2 2 1 2 2 2 2 1 1 1\n",
            " 2 1 2 2 1 2 1 1 2 2 1 1 1 1 1 1 1 1 2 1 2 1 2 1 1 2 1 1 1 1 2 1 2 1 1 1 1\n",
            " 2 1 1 2 2 1 2 1 1 1 1 1 1 2 1 1 2 2 2 1 2 2 2 1 1 2]\n",
            "\n",
            "\n"
          ]
        }
      ]
    },
    {
      "cell_type": "markdown",
      "source": [
        "**Example Result**\n",
        "\n",
        "Results for 10 tosses:\n",
        "[1 1 1 2 2 2 2 2 1 1]\n",
        "\n",
        "\n",
        "Results for 50 tosses:\n",
        "[2 2 2 2 2 2 2 1 1 1 2 1 2 1 1 1 1 1 2 2 1 1 2 1 1 2 1 2 2 2 1 2 1 2 2 2 2\n",
        " 1 1 2 2 2 1 1 2 1 1 2 1 1]\n",
        "\n",
        "\n",
        "Results for 100 tosses:\n",
        "[2 1 2 1 2 2 1 2 2 2 1 2 1 1 2 1 2 1 1 2 1 1 2 1 1 2 2 2 1 1 2 1 1 1 2 1 1\n",
        " 1 2 1 1 2 1 2 1 2 2 1 1 2 1 1 1 2 2 1 1 2 2 2 2 1 2 2 1 1 1 1 1 1 2 2 1 2\n",
        " 2 2 1 1 1 2 1 1 2 1 2 1 2 2 2 2 2 2 2 2 1 1 1 1 2 2]"
      ],
      "metadata": {
        "id": "vfkbQHwpcVWG"
      }
    },
    {
      "cell_type": "markdown",
      "source": [
        "**Monte Carlo Simulation**\n",
        "Computation"
      ],
      "metadata": {
        "id": "wzGdMjXgca9L"
      }
    },
    {
      "cell_type": "code",
      "source": [
        "import numpy as np\n",
        "\n",
        "# Function to simulate coin toss\n",
        "def coin_toss_simulation(n_tosses, n_experiments):\n",
        "    results = []\n",
        "    for _ in range(n_experiments):\n",
        "        tosses = np.random.choice(['H', 'T'], size=n_tosses)\n",
        "        heads_count = np.sum(tosses == 'H')\n",
        "        results.append(heads_count)\n",
        "    return results\n",
        "\n",
        "# Function to calculate theoretical probability of exactly k heads\n",
        "def theoretical_probability(n_tosses, k):\n",
        "    from math import comb\n",
        "    probability = comb(n_tosses, k) * (0.5 ** k) * (0.5 ** (n_tosses - k))\n",
        "    return probability\n",
        "\n",
        "# Function to calculate probability from simulation results\n",
        "def calculate_probability(results, k):\n",
        "    count_k_heads = results.count(k)\n",
        "    probability = count_k_heads / len(results)\n",
        "    return probability\n",
        "\n",
        "# Parameters\n",
        "n_experiments = 1000\n",
        "\n",
        "# Simulate for 10, 50, and 100 tosses\n",
        "tosses_list = [10, 50, 100]\n",
        "results_dict = {}\n",
        "\n",
        "for n_tosses in tosses_list:\n",
        "    results = coin_toss_simulation(n_tosses, n_experiments)\n",
        "    results_dict[n_tosses] = results\n",
        "\n",
        "# Display results and calculate probabilities\n",
        "for n_tosses, results in results_dict.items():\n",
        "    print(f\"Results for {n_tosses} tosses (first 10 outcomes):\")\n",
        "    print(results[:10])  # Display first 10 outcomes for brevity\n",
        "\n",
        "    if n_tosses == 10:\n",
        "        k = 5\n",
        "    elif n_tosses == 50:\n",
        "        k = 25\n",
        "    elif n_tosses == 100:\n",
        "        k = 50\n",
        "\n",
        "    # Theoretical probability\n",
        "    theoretical_prob = theoretical_probability(n_tosses, k)\n",
        "    print(f\"Theoretical probability of getting exactly {k} heads in {n_tosses} tosses: {theoretical_prob:.4f}\")\n",
        "\n",
        "    # Monte Carlo probability\n",
        "    monte_carlo_prob = calculate_probability(results, k)\n",
        "    print(f\"Monte Carlo probability of getting exactly {k} heads in {n_tosses} tosses: {monte_carlo_prob:.4f}\")\n",
        "    print(\"\\n\")"
      ],
      "metadata": {
        "colab": {
          "base_uri": "https://localhost:8080/"
        },
        "id": "5ejFPbSIciKq",
        "outputId": "d7470025-8541-4cfa-ae8d-2d3dbb914381"
      },
      "execution_count": null,
      "outputs": [
        {
          "output_type": "stream",
          "name": "stdout",
          "text": [
            "Results for 10 tosses (first 10 outcomes):\n",
            "[8, 3, 4, 7, 8, 4, 5, 5, 4, 8]\n",
            "Theoretical probability of getting exactly 5 heads in 10 tosses: 0.2461\n",
            "Monte Carlo probability of getting exactly 5 heads in 10 tosses: 0.2400\n",
            "\n",
            "\n",
            "Results for 50 tosses (first 10 outcomes):\n",
            "[22, 31, 28, 29, 25, 28, 22, 22, 31, 18]\n",
            "Theoretical probability of getting exactly 25 heads in 50 tosses: 0.1123\n",
            "Monte Carlo probability of getting exactly 25 heads in 50 tosses: 0.1140\n",
            "\n",
            "\n",
            "Results for 100 tosses (first 10 outcomes):\n",
            "[49, 48, 52, 54, 46, 54, 49, 48, 47, 57]\n",
            "Theoretical probability of getting exactly 50 heads in 100 tosses: 0.0796\n",
            "Monte Carlo probability of getting exactly 50 heads in 100 tosses: 0.0820\n",
            "\n",
            "\n"
          ]
        }
      ]
    },
    {
      "cell_type": "markdown",
      "source": [
        "Example:\n",
        "\n",
        "Results for 10 tosses (first 10 outcomes):\n",
        "[5, 2, 6, 6, 4, 7, 6, 4, 2, 6]\n",
        "Theoretical probability of getting exactly 5 heads in 10 tosses: 0.2461\n",
        "Monte Carlo probability of getting exactly 5 heads in 10 tosses: 0.2290\n",
        "\n",
        "\n",
        "Results for 50 tosses (first 10 outcomes):\n",
        "[20, 21, 31, 22, 25, 21, 24, 29, 23, 22]\n",
        "Theoretical probability of getting exactly 25 heads in 50 tosses: 0.1123\n",
        "Monte Carlo probability of getting exactly 25 heads in 50 tosses: 0.1090\n",
        "\n",
        "\n",
        "Results for 100 tosses (first 10 outcomes):\n",
        "[52, 39, 50, 44, 54, 43, 47, 46, 54, 47]\n",
        "Theoretical probability of getting exactly 50 heads in 100 tosses: 0.0796\n",
        "Monte Carlo probability of getting exactly 50 heads in 100 tosses: 0.0840"
      ],
      "metadata": {
        "id": "5zYkFp1OczxZ"
      }
    }
  ]
}